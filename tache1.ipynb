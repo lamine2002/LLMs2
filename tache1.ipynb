{
 "cells": [
  {
   "cell_type": "code",
   "execution_count": 33,
   "metadata": {},
   "outputs": [],
   "source": [
    "import pandas as pd\n",
    "\n",
    "# Chemin du fichier CSV\n",
    "chemin_fichier = \"archive/enron_data_fraud_labeled.csv\"\n",
    "\n",
    "# Charger les 200 exemples\n",
    "df_200_exemples = pd.read_csv(chemin_fichier, nrows=201)\n",
    "\n",
    "# Sauvegarder dans un fichier JSON avec un format liste d'objets\n",
    "df_200_exemples.to_json(\"200_exemples.json\", orient=\"records\", indent=4, force_ascii=False)\n"
   ]
  },
  {
   "cell_type": "code",
   "execution_count": 2,
   "metadata": {},
   "outputs": [
    {
     "name": "stdout",
     "output_type": "stream",
     "text": [
      "  Folder-User Folder-Name                                     Message-ID  \\\n",
      "0     maildir    arnold-j  <17334447.1075857585446.JavaMail.evans@thyme>   \n",
      "1     maildir    arnold-j  <19171686.1075857585034.JavaMail.evans@thyme>   \n",
      "2     maildir    arnold-j  <29887033.1075857630725.JavaMail.evans@thyme>   \n",
      "3     maildir    arnold-j   <2526360.1075857584903.JavaMail.evans@thyme>   \n",
      "4     maildir    arnold-j  <30102065.1075857630952.JavaMail.evans@thyme>   \n",
      "\n",
      "                                    Date                     From  \\\n",
      "0  Thu, 16 Nov 2000 09:30:00 -0800 (PST)          msagel@home.com   \n",
      "1   Fri, 8 Dec 2000 05:05:00 -0800 (PST)  slafontaine@globalp.com   \n",
      "2  Tue, 15 May 2001 09:43:00 -0700 (PDT)  iceoperations@intcx.com   \n",
      "3  Mon, 11 Dec 2000 23:52:00 -0800 (PST)       klarnold@flash.net   \n",
      "4  Mon, 14 May 2001 23:59:00 -0700 (PDT)    soblander@carrfut.com   \n",
      "\n",
      "                                                  To  \\\n",
      "0                                  jarnold@enron.com   \n",
      "1                              john.arnold@enron.com   \n",
      "2  icehelpdesk@intcx.com, internalmarketing@intcx...   \n",
      "3                              john.arnold@enron.com   \n",
      "4                              soblander@carrfut.com   \n",
      "\n",
      "                                             Subject  Mime-Version  \\\n",
      "0                                             Status             1   \n",
      "1                                 re:summer inverses             1   \n",
      "2                      The WTI Bullet swap contracts             1   \n",
      "3  Fwd: NYTimes.com Article: Suspended Rabbi Quit...             1   \n",
      "4        daily charts and matrices as hot links 5/15             1   \n",
      "\n",
      "                         Content-Type Content-Transfer-Encoding  ... Re  \\\n",
      "0  text/plain; charset=ANSI_X3.4-1968                      7bit  ...      \n",
      "1        text/plain; charset=us-ascii                      7bit  ...      \n",
      "2        text/plain; charset=us-ascii                      7bit  ...      \n",
      "3        text/plain; charset=us-ascii                      7bit  ...      \n",
      "4        text/plain; charset=us-ascii                      7bit  ...      \n",
      "\n",
      "       Source                                            Mail-ID  POI-Present  \\\n",
      "0  Enron Data  b399fa1ba5ec06ccf8ead1049a53be981d0ebb39ee2c94...        False   \n",
      "1  Enron Data  84b07d7a0a17b545896f670f92d200e86843c2796147d9...        False   \n",
      "2  Enron Data  f7482dd06262f46d341e733aa0c2fb55cb1e257ea153d0...        False   \n",
      "3  Enron Data  25441e5a837fefda50527731fdbcdf0848663be82cd1ce...        False   \n",
      "4  Enron Data  c2995c6a70b953ee66c21d8a509ebfbfaca28277917beb...        False   \n",
      "\n",
      "  Suspicious-Folders Sender-Type Unique-Mails-From-Sender Low-Comm  \\\n",
      "0              False    External                       18    False   \n",
      "1              False    External                        4     True   \n",
      "2              False    External                        3     True   \n",
      "3              False    External                        9    False   \n",
      "4              False    External                      352    False   \n",
      "\n",
      "  Contains-Reply-Forwards Label  \n",
      "0                   False     0  \n",
      "1                   False     0  \n",
      "2                   False     0  \n",
      "3                    True     0  \n",
      "4                   False     0  \n",
      "\n",
      "[5 rows x 32 columns]\n"
     ]
    }
   ],
   "source": [
    "import pandas as pd\n",
    "\n",
    "# Charger le fichier JSON\n",
    "chemin_fichier = \"200_exemples.json\"\n",
    "df = pd.read_json(chemin_fichier)\n",
    "\n",
    "# df = df[colonnes_a_garder].dropna()  # Supprimer les emails sans contenu\n",
    "\n",
    "# Afficher un aperçu des données\n",
    "print(df.head())\n"
   ]
  },
  {
   "cell_type": "code",
   "execution_count": 3,
   "metadata": {},
   "outputs": [
    {
     "name": "stdout",
     "output_type": "stream",
     "text": [
      "                                    Date                     From  \\\n",
      "0  Thu, 16 Nov 2000 09:30:00 -0800 (PST)          msagel@home.com   \n",
      "1   Fri, 8 Dec 2000 05:05:00 -0800 (PST)  slafontaine@globalp.com   \n",
      "2  Tue, 15 May 2001 09:43:00 -0700 (PDT)  iceoperations@intcx.com   \n",
      "3  Mon, 11 Dec 2000 23:52:00 -0800 (PST)       klarnold@flash.net   \n",
      "4  Mon, 14 May 2001 23:59:00 -0700 (PDT)    soblander@carrfut.com   \n",
      "\n",
      "                                                  To  \\\n",
      "0                                  jarnold@enron.com   \n",
      "1                              john.arnold@enron.com   \n",
      "2  icehelpdesk@intcx.com, internalmarketing@intcx...   \n",
      "3                              john.arnold@enron.com   \n",
      "4                              soblander@carrfut.com   \n",
      "\n",
      "                                             Subject  \\\n",
      "0                                             Status   \n",
      "1                                 re:summer inverses   \n",
      "2                      The WTI Bullet swap contracts   \n",
      "3  Fwd: NYTimes.com Article: Suspended Rabbi Quit...   \n",
      "4        daily charts and matrices as hot links 5/15   \n",
      "\n",
      "                                                Body  Label  \n",
      "0  Status John: I'm not really sure what happened...      0  \n",
      "1  re:summer inverses i suck-hope youve made more...      0  \n",
      "2  The WTI Bullet swap contracts Hi, Following th...      0  \n",
      "3  Fwd: NYTimes.com Article: Suspended Rabbi Quit...      0  \n",
      "4  daily charts and matrices as hot links 5/15 Th...      0  \n"
     ]
    }
   ],
   "source": [
    "# Colonnes importantes\n",
    "colonnes_a_garder = ['Date', 'From', 'To', 'Subject', 'Body', 'Label']\n",
    "\n",
    "# Filtrer les données\n",
    "df = df[colonnes_a_garder]\n",
    "\n",
    "# Afficher un aperçu\n",
    "print(df.head())\n"
   ]
  },
  {
   "cell_type": "code",
   "execution_count": 5,
   "metadata": {},
   "outputs": [
    {
     "name": "stdout",
     "output_type": "stream",
     "text": [
      "                       Date Date_Simplifiee\n",
      "0 2000-11-16 09:30:00-08:00      2000-11-16\n",
      "1 2000-12-08 05:05:00-08:00      2000-12-08\n",
      "2                       NaT             NaN\n",
      "3 2000-12-11 23:52:00-08:00      2000-12-11\n",
      "4                       NaT             NaN\n"
     ]
    }
   ],
   "source": [
    "import pandas as pd\n",
    "\n",
    "# Convertir la colonne Date en un format standard\n",
    "df['Date'] = pd.to_datetime(df['Date'], errors='coerce')\n",
    "\n",
    "# Extraire uniquement la date (sans heure)\n",
    "df['Date_Simplifiee'] = df['Date'].dt.strftime('%Y-%m-%d')\n",
    "\n",
    "# Afficher un aperçu\n",
    "print(df[['Date', 'Date_Simplifiee']].head())"
   ]
  },
  {
   "cell_type": "code",
   "execution_count": 6,
   "metadata": {},
   "outputs": [
    {
     "name": "stdout",
     "output_type": "stream",
     "text": [
      "From\n",
      "soblander@carrfut.com                  24\n",
      "capstone@ktc.com                       11\n",
      "mark@capstone-ta.com                    8\n",
      "dailyquote@smtp.quote.com               7\n",
      "info@winebid.com                        6\n",
      "                                       ..\n",
      "michael.gapinski@ubspainewebber.com     1\n",
      "c10mkf@msn.com                          1\n",
      "310fkn6iqva@msn.com                     1\n",
      "nyadmin@intcx.com                       1\n",
      "kward1@houston.rr.com                   1\n",
      "Name: count, Length: 87, dtype: int64\n",
      "Le nombre de message frauduleux :  91\n"
     ]
    }
   ],
   "source": [
    "# Compter les emails par expéditeur\n",
    "emails_par_expéditeur = df['From'].value_counts()\n",
    "print(emails_par_expéditeur)\n",
    "\n",
    "# Filtrer les messages frauduleux\n",
    "messages_frauduleux = df[df['Label'] == 1]\n",
    "print(\"Le nombre de message frauduleux : \", messages_frauduleux.size)\n"
   ]
  },
  {
   "cell_type": "code",
   "execution_count": 9,
   "metadata": {},
   "outputs": [
    {
     "name": "stdout",
     "output_type": "stream",
     "text": [
      "Proportion de messages frauduleux : 6.47%\n"
     ]
    }
   ],
   "source": [
    "# Calculer la proportion\n",
    "total_messages = len(df)\n",
    "frauduleux_messages = len(messages_frauduleux)\n",
    "proportion_frauduleux = (frauduleux_messages / total_messages) * 100\n",
    "print(f\"Proportion de messages frauduleux : {proportion_frauduleux:.2f}%\")\n"
   ]
  },
  {
   "cell_type": "code",
   "execution_count": 11,
   "metadata": {},
   "outputs": [
    {
     "data": {
      "image/png": "[encoded data removed]",
      "text/plain": [
       "<Figure size 640x480 with 1 Axes>"
      ]
     },
     "metadata": {},
     "output_type": "display_data"
    }
   ],
   "source": [
    "import matplotlib.pyplot as plt\n",
    "# Répartition des labels\n",
    "df['Label'].value_counts().plot(kind='bar', color=['green', 'red'])\n",
    "plt.title(\"Répartition des emails (Fraud vs Non-Fraud)\")\n",
    "plt.xlabel(\"Type d'email\")\n",
    "plt.ylabel(\"Nombre d'emails\")\n",
    "plt.xticks([0, 1], ['Non-Fraud', 'Fraud'])\n",
    "plt.show()"
   ]
  },
  {
   "cell_type": "code",
   "execution_count": 12,
   "metadata": {},
   "outputs": [
    {
     "data": {
      "image/png": "[encoded data removed]",
      "text/plain": [
       "<Figure size 640x480 with 1 Axes>"
      ]
     },
     "metadata": {},
     "output_type": "display_data"
    }
   ],
   "source": [
    "import matplotlib.pyplot as plt\n",
    "\n",
    "# Top 10 expéditeurs\n",
    "df['From'].value_counts().head(10).plot(kind='bar')\n",
    "plt.title(\"Top 10 Expéditeurs\")\n",
    "plt.ylabel(\"Nombre d'emails\")\n",
    "plt.xticks(rotation=70)\n",
    "plt.show()\n",
    "\n"
   ]
  },
  {
   "cell_type": "code",
   "execution_count": 43,
   "metadata": {},
   "outputs": [],
   "source": [
    "# import re\n",
    "\n",
    "# def nettoyer_texte(texte):\n",
    "#     texte = re.sub(r'\\s+', ' ', texte)  # Supprime les espaces multiples\n",
    "#     texte = re.sub(r'[^\\w\\s.,]', '', texte)  # Supprime les caractères spéciaux\n",
    "#     texte = texte.strip()  # Supprime les espaces au début et à la fin\n",
    "#     return texte"
   ]
  },
  {
   "cell_type": "code",
   "execution_count": 44,
   "metadata": {},
   "outputs": [],
   "source": [
    "# def construire_prompt(texte):\n",
    "#     return (\n",
    "#         f\"summarize: {texte}\\n\"\n",
    "#         \"Focus on the sender's intention, expectations, and actions they want to be taken.\"\n",
    "#     )"
   ]
  },
  {
   "cell_type": "code",
   "execution_count": 45,
   "metadata": {},
   "outputs": [],
   "source": [
    "# from transformers import pipeline\n",
    "\n",
    "# # Charger un pipeline de résumé avec T5-Small\n",
    "# summarizer = pipeline(\"summarization\", model=\"google-t5/t5-3b\", tokenizer=\"google-t5/t5-3b\")\n",
    "\n",
    "# # Email à résumer\n",
    "# texte = df['Body'].iloc[0]  # Premier email\n",
    "# texte_nettoye = nettoyer_texte(texte)\n",
    "# prompt = construire_prompt(texte_nettoye)\n",
    "\n",
    "# # Résumer le texte\n",
    "# resume = summarizer(prompt, max_length=100, min_length=30, do_sample=False)\n",
    "\n",
    "# # Afficher le résultat\n",
    "# print(\"Email à résumer :\", texte_nettoye)\n",
    "# print(\"Résumé :\", resume[0]['summary_text'])\n"
   ]
  },
  {
   "cell_type": "code",
   "execution_count": 46,
   "metadata": {},
   "outputs": [],
   "source": [
    "# import re\n",
    "# from transformers import pipeline, AutoTokenizer\n",
    "\n",
    "# # Nettoyage du texte\n",
    "# def nettoyer_texte(texte):\n",
    "#     texte = re.sub(r'\\s+', ' ', texte)  # Supprime les espaces multiples\n",
    "#     texte = re.sub(r'[^\\w\\s.,]', '', texte)  # Supprime les caractères spéciaux\n",
    "#     return texte.strip()  # Supprime les espaces au début et à la fin\n",
    "\n",
    "# # Construire le prompt\n",
    "# def construire_prompt(texte):\n",
    "#     return (\n",
    "#         f\"summarize: {texte}\\n\"\n",
    "#         \"Summarize the email in one clear and concise sentence, avoiding repetition.\"\n",
    "#     )\n",
    "\n",
    "# # Charger le pipeline de résumé\n",
    "# summarizer = pipeline(\"summarization\", model=\"google-t5/t5-3b\", tokenizer=\"google-t5/t5-3b\")\n",
    "# tokenizer = AutoTokenizer.from_pretrained(\"google-t5/t5-3b\")\n",
    "\n",
    "# # Résumer un email\n",
    "# def resumer_email(texte, summarizer, tokenizer):\n",
    "#     # Nettoyer le texte\n",
    "#     texte_nettoye = nettoyer_texte(texte)\n",
    "#     prompt = construire_prompt(texte_nettoye)\n",
    "    \n",
    "#     # Encoder le prompt\n",
    "#     tokens = tokenizer(prompt, return_tensors=\"pt\")['input_ids']\n",
    "#     input_length = tokens.size(1)\n",
    "\n",
    "#     # Ajuster dynamiquement les longueurs\n",
    "#     max_length = max(30, int(input_length * 0.7))  # 70% de la longueur d'entrée\n",
    "#     min_length = max(10, int(input_length * 0.4))  # 40% de la longueur d'entrée\n",
    "\n",
    "#     # Générer le résumé\n",
    "#     resume = summarizer(prompt, max_length=max_length, min_length=min_length, do_sample=False)\n",
    "    \n",
    "#     return texte_nettoye, resume[0]['summary_text'], input_length\n",
    "\n",
    "# # Exemple : traiter un email\n",
    "# texte = df['Body'].iloc[0]  # Premier email du dataset\n",
    "# texte_nettoye, resume, input_length = resumer_email(texte, summarizer, tokenizer)\n",
    "\n",
    "# # Afficher le résultat\n",
    "# print(f\"Longueur de l'entrée : {input_length} tokens\")\n",
    "# print(\"Email à résumer :\", texte_nettoye)\n",
    "# print(\"Résumé :\", resume)\n"
   ]
  },
  {
   "cell_type": "code",
   "execution_count": 47,
   "metadata": {},
   "outputs": [],
   "source": [
    "# import re\n",
    "# from transformers import pipeline, AutoTokenizer\n",
    "\n",
    "# def nettoyer_texte(texte):\n",
    "#     \"\"\"Nettoie le texte en supprimant les espaces et caractères spéciaux.\"\"\"\n",
    "#     texte = re.sub(r'\\s+', ' ', texte)\n",
    "#     texte = re.sub(r'[^\\w\\s.,]', '', texte)\n",
    "#     return texte.strip()\n",
    "\n",
    "# def construire_prompt(texte):\n",
    "#     \"\"\"\n",
    "#     Construit un prompt très précis pour guider le résumé.\n",
    "#     \"\"\"\n",
    "#     return (\n",
    "#         \"Professional email summary: Briefly explain the sender's main intent, \"\n",
    "#         \"key context, and specific request. Capture the essence concisely. \"\n",
    "#         f\"{texte}\"\n",
    "#     )\n",
    "\n",
    "# def resumer_email(texte, model_name=\"google-t5/t5-3b\"):\n",
    "#     \"\"\"\n",
    "#     Résume un email avec des paramètres très précis.\n",
    "#     \"\"\"\n",
    "#     # Nettoyer le texte\n",
    "#     texte_nettoye = nettoyer_texte(texte)\n",
    "    \n",
    "#     # Initialiser le pipeline et le tokenizer\n",
    "#     summarizer = pipeline(\"summarization\", model=model_name)\n",
    "#     tokenizer = AutoTokenizer.from_pretrained(model_name)\n",
    "    \n",
    "#     # Construire le prompt\n",
    "#     prompt = construire_prompt(texte_nettoye)\n",
    "    \n",
    "#     # Encoder le prompt pour obtenir sa longueur\n",
    "#     tokens = tokenizer(prompt, return_tensors=\"pt\")['input_ids']\n",
    "#     input_length = tokens.size(1)\n",
    "    \n",
    "#     # Ajuster dynamiquement les longueurs\n",
    "#     max_length = max(50, int(input_length * 0.5))  # Réduit à 50%\n",
    "#     min_length = max(20, int(input_length * 0.3))  # Maintient à 30%\n",
    "    \n",
    "#     # Générer le résumé\n",
    "#     resume = summarizer(\n",
    "#         prompt, \n",
    "#         max_length=max_length, \n",
    "#         min_length=min_length, \n",
    "#         do_sample=False,\n",
    "#         num_beams=4,  \n",
    "#         early_stopping=True\n",
    "#     )\n",
    "    \n",
    "#     return texte_nettoye, resume[0]['summary_text'], input_length\n",
    "\n",
    "# # Exemple d'utilisation\n",
    "# def main(texte):\n",
    "#     texte_nettoye, resume, input_length = resumer_email(texte)\n",
    "#     print(f\"Longueur de l'entrée : {input_length} tokens\")\n",
    "#     print(\"Email nettoyé :\", texte_nettoye)\n",
    "#     print(\"Résumé :\", resume)\n",
    "\n",
    "# # Vous pouvez remplacer df['Body'].iloc[0] par votre texte\n",
    "# main(df['Body'].iloc[0])"
   ]
  },
  {
   "cell_type": "code",
   "execution_count": 48,
   "metadata": {},
   "outputs": [],
   "source": [
    "# def construire_prompt_avec_exemples(texte):\n",
    "#     exemples = \"\"\"\n",
    "# Example 1:\n",
    "# Email: Hi John, I just wanted to follow up on the documents I sent last week. Let me know if you have any questions.\n",
    "# Summary: Follow-up on documents sent last week, asking for feedback.\n",
    "\n",
    "# Example 2:\n",
    "# Email: Hello, I hope this email finds you well. I'm writing to confirm our meeting scheduled for tomorrow at 10 AM. Please let me know if the time works for you.\n",
    "# Summary: Confirmation of a meeting scheduled for tomorrow at 10 AM.\n",
    "\n",
    "# Example 3:\n",
    "# Email: Status John, I'm not really sure what happened between us. I was under the impression after my visit to Houston that we were about to enter into a trial agreement for my advisory work. Somehow, this never occurred. Did I say or do something wrong to screw this up? Best wishes, Mark.\n",
    "# Summary: Seeking clarification about a trial agreement after a visit to Houston, asking if the project is still viable.\n",
    "\n",
    "# Your task:\n",
    "# Summarize the following email in one clear and concise sentence, avoiding repetition:\n",
    "# \"\"\"\n",
    "#     return f\"{exemples}\\n{texte}\"\n"
   ]
  },
  {
   "cell_type": "code",
   "execution_count": 49,
   "metadata": {},
   "outputs": [],
   "source": [
    "# # Résumer un email avec des exemples\n",
    "# def resumer_email_avec_exemples(texte, summarizer, tokenizer):\n",
    "#     texte_nettoye = nettoyer_texte(texte)\n",
    "#     prompt = construire_prompt_avec_exemples(texte_nettoye)\n",
    "\n",
    "#     # Encoder le prompt\n",
    "#     tokens = tokenizer(prompt, return_tensors=\"pt\")['input_ids']\n",
    "#     input_length = tokens.size(1)\n",
    "\n",
    "#     # Ajuster dynamiquement les longueurs\n",
    "#     max_length = max(30, int(input_length * 0.7))\n",
    "#     min_length = max(10, int(input_length * 0.4))\n",
    "\n",
    "#     # Générer le résumé\n",
    "#     resume = summarizer(prompt, max_length=max_length, min_length=min_length, do_sample=False)\n",
    "#     return texte_nettoye, resume[0]['summary_text'], input_length\n",
    "\n",
    "# # Exemple : traiter un email\n",
    "# texte = df['Body'].iloc[0]\n",
    "# texte_nettoye, resume, input_length = resumer_email_avec_exemples(texte, summarizer, tokenizer)\n",
    "\n",
    "# # Afficher le résultat\n",
    "# print(f\"Longueur de l'entrée : {input_length} tokens\")\n",
    "# print(\"Email à résumer :\", texte_nettoye)\n",
    "# print(\"Résumé :\", resume)\n"
   ]
  },
  {
   "cell_type": "markdown",
   "metadata": {},
   "source": [
    "## google/gemma-2b-it"
   ]
  },
  {
   "cell_type": "code",
   "execution_count": 50,
   "metadata": {},
   "outputs": [],
   "source": [
    "# from transformers import AutoTokenizer, AutoModelForCausalLM\n",
    "\n",
    "# # Charger le modèle et le tokenizer\n",
    "# tokenizer = AutoTokenizer.from_pretrained(\"google/gemma-2b-it\")\n",
    "# model = AutoModelForCausalLM.from_pretrained(\n",
    "#     \"google/gemma-2b-it\", \n",
    "#     torch_dtype=torch.float32  # Vous pouvez utiliser torch.float16 pour GPU\n",
    "# )\n"
   ]
  },
  {
   "cell_type": "code",
   "execution_count": 51,
   "metadata": {},
   "outputs": [],
   "source": [
    "# import re\n",
    "\n",
    "# def nettoyer_texte(texte):\n",
    "#     texte = re.sub(r'\\s+', ' ', texte)  # Supprimer les espaces multiples\n",
    "#     texte = re.sub(r'[^\\w\\s.,]', '', texte)  # Supprimer les caractères spéciaux\n",
    "#     texte = re.sub(r'(Best wishes|Regards|Sincerely).+', '', texte, flags=re.IGNORECASE)  # Supprimer les signatures\n",
    "#     texte = re.sub(r'\\b\\d{7,}\\b', '', texte)  # Supprimer les numéros longs (téléphones)\n",
    "#     return texte.strip()\n"
   ]
  },
  {
   "cell_type": "code",
   "execution_count": 52,
   "metadata": {},
   "outputs": [],
   "source": [
    "# def construire_prompt(texte):\n",
    "#     exemples = \"\"\"\n",
    "# Example 1:\n",
    "# Email: Hi John, I just wanted to follow up on the documents I sent last week. Let me know if you have any questions.\n",
    "# Summary: Follow-up on documents sent last week, asking for feedback.\n",
    "\n",
    "# Example 2:\n",
    "# Email: Hello, I hope this email finds you well. I'm writing to confirm our meeting scheduled for tomorrow at 10 AM. Please let me know if the time works for you.\n",
    "# Summary: Confirmation of a meeting scheduled for tomorrow at 10 AM.\n",
    "\n",
    "# Your task:\n",
    "# Summarize the following email in one clear and concise sentence:\n",
    "# \"\"\"\n",
    "#     return f\"{exemples}{texte}\"\n"
   ]
  },
  {
   "cell_type": "code",
   "execution_count": 53,
   "metadata": {},
   "outputs": [],
   "source": [
    "# def resumer_email(texte):\n",
    "#     texte_nettoye = nettoyer_texte(texte)\n",
    "#     prompt = construire_prompt(texte_nettoye)\n",
    "\n",
    "#     # Encodage du texte\n",
    "#     inputs = tokenizer(prompt, return_tensors=\"pt\", truncation=True, max_length=512)\n",
    "\n",
    "#     # Génération du résumé\n",
    "#     outputs = model.generate(\n",
    "#         input_ids=inputs[\"input_ids\"], \n",
    "#         max_new_tokens=100,  # Nombre maximal de tokens générés\n",
    "#         min_new_tokens=30,   # Nombre minimal de tokens générés\n",
    "#         do_sample=False  # Désactiver l'échantillonnage pour une sortie déterministe\n",
    "#     )\n",
    "\n",
    "#     # Décodage du texte généré\n",
    "#     resume = tokenizer.decode(outputs[0], skip_special_tokens=True)\n",
    "#     return texte_nettoye, resume\n"
   ]
  },
  {
   "cell_type": "code",
   "execution_count": 54,
   "metadata": {},
   "outputs": [],
   "source": [
    "# # Exemple d'email\n",
    "# texte = df['Body'].iloc[0]\n",
    "# # Résumer l'email\n",
    "# texte_nettoye, resume = resumer_email(texte)\n",
    "\n",
    "# # Afficher le résultat\n",
    "# print(\"Email à résumer :\", texte_nettoye)\n",
    "# print(\"Résumé :\", resume)\n"
   ]
  },
  {
   "cell_type": "markdown",
   "metadata": {},
   "source": [
    "## facebook/opt-2.7b\n",
    "Pas efficace pour les resume"
   ]
  },
  {
   "cell_type": "code",
   "execution_count": 64,
   "metadata": {},
   "outputs": [
    {
     "name": "stdout",
     "output_type": "stream",
     "text": [
      "Email à résumer : Status John Im not really sure what happened between us. I was under the impression after my visit to Houston that we were about to enter into a trial agreement for my advisory work. Somehow,this never occurred. Did I say or do something wrong to screw this up I dont know if youve blown this whole thing off, but I still hope you are interested in tryingto create an arrangement. As a courtesy, here is my report from this past weekend. If you are no longer interested in my work, please tell me so.\n",
      "Résumé : Summarize the email below in one or two sentences, focusing on the main message and intent:\n",
      "\n",
      "Email: Status John Im not really sure what happened between us. I was under the impression after my visit to Houston that we were about to enter into a trial agreement for my advisory work. Somehow,this never occurred. Did I say or do something wrong to screw this up I dont know if youve blown this whole thing off, but I still hope you are interested in tryingto create an arrangement. As a courtesy, here is my report from this past weekend. If you are no longer interested in my work, please tell me so.\n",
      "\n",
      "Summary:\n",
      "\n",
      "This email is more of a request than a request for an explanation. It is a polite way of saying, “I would like to keep working with you, but I am not sure how you feel.” The tone is more\n"
     ]
    }
   ],
   "source": [
    "import re\n",
    "from transformers import AutoTokenizer, AutoModelForCausalLM\n",
    "import torch\n",
    "\n",
    "# Charger le modèle et le tokenizer\n",
    "tokenizer = AutoTokenizer.from_pretrained(\"facebook/opt-2.7b\")\n",
    "model = AutoModelForCausalLM.from_pretrained(\"facebook/opt-2.7b\", torch_dtype=torch.float32)\n",
    "\n",
    "# Nettoyage du texte\n",
    "def nettoyer_texte(texte):\n",
    "    texte = re.sub(r'\\s+', ' ', texte)  # Supprimer les espaces multiples\n",
    "    texte = re.sub(r'[^\\w\\s.,]', '', texte)  # Supprimer les caractères spéciaux\n",
    "    texte = re.sub(r'(Best wishes|Regards|Sincerely).+', '', texte, flags=re.IGNORECASE)  # Supprimer les signatures\n",
    "    return texte.strip()\n",
    "\n",
    "# Construire un prompt plus concis\n",
    "def construire_prompt(texte):\n",
    "    return (\n",
    "        f\"Summarize the email below in one or two sentences, focusing on the main message and intent:\\n\\n\"\n",
    "        f\"Email: {texte}\\n\\n\"\n",
    "        \"Summary:\"\n",
    "    )\n",
    "\n",
    "# Résumer un email\n",
    "def resumer_email(texte):\n",
    "    texte_nettoye = nettoyer_texte(texte)\n",
    "    prompt = construire_prompt(texte_nettoye)\n",
    "\n",
    "    # Encoder le prompt\n",
    "    inputs = tokenizer(prompt, return_tensors=\"pt\", truncation=True, max_length=512)\n",
    "\n",
    "    # Génération\n",
    "    outputs = model.generate(\n",
    "        input_ids=inputs[\"input_ids\"], \n",
    "        max_new_tokens=50,\n",
    "        temperature=0.7,\n",
    "        do_sample=True  # Désactiver l'échantillonnage pour obtenir un résumé plus cohérent\n",
    "    )\n",
    "\n",
    "    # Décoder la sortie\n",
    "    resume = tokenizer.decode(outputs[0], skip_special_tokens=True)\n",
    "    return texte_nettoye, resume\n",
    "\n",
    "# Exemple de texte à résumer\n",
    "texte = df['Body'].iloc[0]\n",
    "\n",
    "texte_nettoye, resume = resumer_email(texte)\n",
    "\n",
    "# Afficher le résultat\n",
    "print(\"Email à résumer :\", texte_nettoye)\n",
    "print(\"Résumé :\", resume)\n"
   ]
  },
  {
   "cell_type": "markdown",
   "metadata": {},
   "source": [
    "## Phi-3\n",
    "necessite un gpu"
   ]
  },
  {
   "cell_type": "code",
   "execution_count": 21,
   "metadata": {},
   "outputs": [
    {
     "name": "stderr",
     "output_type": "stream",
     "text": [
      "Encountered exception while importing triton: No module named 'triton'\n"
     ]
    },
    {
     "ename": "ImportError",
     "evalue": "This modeling file requires the following packages that were not found in your environment: triton. Run `pip install triton`",
     "output_type": "error",
     "traceback": [
      "\u001b[1;31m---------------------------------------------------------------------------\u001b[0m",
      "\u001b[1;31mImportError\u001b[0m                               Traceback (most recent call last)",
      "Cell \u001b[1;32mIn[21], line 7\u001b[0m\n\u001b[0;32m      5\u001b[0m model_id \u001b[38;5;241m=\u001b[39m \u001b[38;5;124m\"\u001b[39m\u001b[38;5;124mmicrosoft/Phi-3-small-128k-instruct\u001b[39m\u001b[38;5;124m\"\u001b[39m\n\u001b[0;32m      6\u001b[0m tokenizer \u001b[38;5;241m=\u001b[39m AutoTokenizer\u001b[38;5;241m.\u001b[39mfrom_pretrained(model_id, trust_remote_code\u001b[38;5;241m=\u001b[39m\u001b[38;5;28;01mTrue\u001b[39;00m)\n\u001b[1;32m----> 7\u001b[0m model \u001b[38;5;241m=\u001b[39m \u001b[43mAutoModelForCausalLM\u001b[49m\u001b[38;5;241;43m.\u001b[39;49m\u001b[43mfrom_pretrained\u001b[49m\u001b[43m(\u001b[49m\n\u001b[0;32m      8\u001b[0m \u001b[43m    \u001b[49m\u001b[43mmodel_id\u001b[49m\u001b[43m,\u001b[49m\n\u001b[0;32m      9\u001b[0m \u001b[43m    \u001b[49m\u001b[43mtorch_dtype\u001b[49m\u001b[38;5;241;43m=\u001b[39;49m\u001b[43mtorch\u001b[49m\u001b[38;5;241;43m.\u001b[39;49m\u001b[43mfloat32\u001b[49m\u001b[43m,\u001b[49m\u001b[43m  \u001b[49m\u001b[38;5;66;43;03m# Forcer l'utilisation de float32 pour CPU\u001b[39;49;00m\n\u001b[0;32m     10\u001b[0m \u001b[43m    \u001b[49m\u001b[43mtrust_remote_code\u001b[49m\u001b[38;5;241;43m=\u001b[39;49m\u001b[38;5;28;43;01mTrue\u001b[39;49;00m\n\u001b[0;32m     11\u001b[0m \u001b[43m)\u001b[49m\n\u001b[0;32m     13\u001b[0m \u001b[38;5;66;03m# Déplacer le modèle sur le CPU (car pas de GPU disponible)\u001b[39;00m\n\u001b[0;32m     14\u001b[0m device \u001b[38;5;241m=\u001b[39m \u001b[38;5;124m\"\u001b[39m\u001b[38;5;124mcpu\u001b[39m\u001b[38;5;124m\"\u001b[39m\n",
      "File \u001b[1;32mc:\\Users\\lamin\\AppData\\Local\\Programs\\Python\\Python311\\Lib\\site-packages\\transformers\\models\\auto\\auto_factory.py:553\u001b[0m, in \u001b[0;36m_BaseAutoModelClass.from_pretrained\u001b[1;34m(cls, pretrained_model_name_or_path, *model_args, **kwargs)\u001b[0m\n\u001b[0;32m    551\u001b[0m \u001b[38;5;28;01mif\u001b[39;00m has_remote_code \u001b[38;5;129;01mand\u001b[39;00m trust_remote_code:\n\u001b[0;32m    552\u001b[0m     class_ref \u001b[38;5;241m=\u001b[39m config\u001b[38;5;241m.\u001b[39mauto_map[\u001b[38;5;28mcls\u001b[39m\u001b[38;5;241m.\u001b[39m\u001b[38;5;18m__name__\u001b[39m]\n\u001b[1;32m--> 553\u001b[0m     model_class \u001b[38;5;241m=\u001b[39m \u001b[43mget_class_from_dynamic_module\u001b[49m\u001b[43m(\u001b[49m\n\u001b[0;32m    554\u001b[0m \u001b[43m        \u001b[49m\u001b[43mclass_ref\u001b[49m\u001b[43m,\u001b[49m\u001b[43m \u001b[49m\u001b[43mpretrained_model_name_or_path\u001b[49m\u001b[43m,\u001b[49m\u001b[43m \u001b[49m\u001b[43mcode_revision\u001b[49m\u001b[38;5;241;43m=\u001b[39;49m\u001b[43mcode_revision\u001b[49m\u001b[43m,\u001b[49m\u001b[43m \u001b[49m\u001b[38;5;241;43m*\u001b[39;49m\u001b[38;5;241;43m*\u001b[39;49m\u001b[43mhub_kwargs\u001b[49m\u001b[43m,\u001b[49m\u001b[43m \u001b[49m\u001b[38;5;241;43m*\u001b[39;49m\u001b[38;5;241;43m*\u001b[39;49m\u001b[43mkwargs\u001b[49m\n\u001b[0;32m    555\u001b[0m \u001b[43m    \u001b[49m\u001b[43m)\u001b[49m\n\u001b[0;32m    556\u001b[0m     _ \u001b[38;5;241m=\u001b[39m hub_kwargs\u001b[38;5;241m.\u001b[39mpop(\u001b[38;5;124m\"\u001b[39m\u001b[38;5;124mcode_revision\u001b[39m\u001b[38;5;124m\"\u001b[39m, \u001b[38;5;28;01mNone\u001b[39;00m)\n\u001b[0;32m    557\u001b[0m     \u001b[38;5;28mcls\u001b[39m\u001b[38;5;241m.\u001b[39mregister(config\u001b[38;5;241m.\u001b[39m\u001b[38;5;18m__class__\u001b[39m, model_class, exist_ok\u001b[38;5;241m=\u001b[39m\u001b[38;5;28;01mTrue\u001b[39;00m)\n",
      "File \u001b[1;32mc:\\Users\\lamin\\AppData\\Local\\Programs\\Python\\Python311\\Lib\\site-packages\\transformers\\dynamic_module_utils.py:540\u001b[0m, in \u001b[0;36mget_class_from_dynamic_module\u001b[1;34m(class_reference, pretrained_model_name_or_path, cache_dir, force_download, resume_download, proxies, token, revision, local_files_only, repo_type, code_revision, **kwargs)\u001b[0m\n\u001b[0;32m    538\u001b[0m     code_revision \u001b[38;5;241m=\u001b[39m revision\n\u001b[0;32m    539\u001b[0m \u001b[38;5;66;03m# And lastly we get the class inside our newly created module\u001b[39;00m\n\u001b[1;32m--> 540\u001b[0m final_module \u001b[38;5;241m=\u001b[39m \u001b[43mget_cached_module_file\u001b[49m\u001b[43m(\u001b[49m\n\u001b[0;32m    541\u001b[0m \u001b[43m    \u001b[49m\u001b[43mrepo_id\u001b[49m\u001b[43m,\u001b[49m\n\u001b[0;32m    542\u001b[0m \u001b[43m    \u001b[49m\u001b[43mmodule_file\u001b[49m\u001b[43m \u001b[49m\u001b[38;5;241;43m+\u001b[39;49m\u001b[43m \u001b[49m\u001b[38;5;124;43m\"\u001b[39;49m\u001b[38;5;124;43m.py\u001b[39;49m\u001b[38;5;124;43m\"\u001b[39;49m\u001b[43m,\u001b[49m\n\u001b[0;32m    543\u001b[0m \u001b[43m    \u001b[49m\u001b[43mcache_dir\u001b[49m\u001b[38;5;241;43m=\u001b[39;49m\u001b[43mcache_dir\u001b[49m\u001b[43m,\u001b[49m\n\u001b[0;32m    544\u001b[0m \u001b[43m    \u001b[49m\u001b[43mforce_download\u001b[49m\u001b[38;5;241;43m=\u001b[39;49m\u001b[43mforce_download\u001b[49m\u001b[43m,\u001b[49m\n\u001b[0;32m    545\u001b[0m \u001b[43m    \u001b[49m\u001b[43mresume_download\u001b[49m\u001b[38;5;241;43m=\u001b[39;49m\u001b[43mresume_download\u001b[49m\u001b[43m,\u001b[49m\n\u001b[0;32m    546\u001b[0m \u001b[43m    \u001b[49m\u001b[43mproxies\u001b[49m\u001b[38;5;241;43m=\u001b[39;49m\u001b[43mproxies\u001b[49m\u001b[43m,\u001b[49m\n\u001b[0;32m    547\u001b[0m \u001b[43m    \u001b[49m\u001b[43mtoken\u001b[49m\u001b[38;5;241;43m=\u001b[39;49m\u001b[43mtoken\u001b[49m\u001b[43m,\u001b[49m\n\u001b[0;32m    548\u001b[0m \u001b[43m    \u001b[49m\u001b[43mrevision\u001b[49m\u001b[38;5;241;43m=\u001b[39;49m\u001b[43mcode_revision\u001b[49m\u001b[43m,\u001b[49m\n\u001b[0;32m    549\u001b[0m \u001b[43m    \u001b[49m\u001b[43mlocal_files_only\u001b[49m\u001b[38;5;241;43m=\u001b[39;49m\u001b[43mlocal_files_only\u001b[49m\u001b[43m,\u001b[49m\n\u001b[0;32m    550\u001b[0m \u001b[43m    \u001b[49m\u001b[43mrepo_type\u001b[49m\u001b[38;5;241;43m=\u001b[39;49m\u001b[43mrepo_type\u001b[49m\u001b[43m,\u001b[49m\n\u001b[0;32m    551\u001b[0m \u001b[43m\u001b[49m\u001b[43m)\u001b[49m\n\u001b[0;32m    552\u001b[0m \u001b[38;5;28;01mreturn\u001b[39;00m get_class_in_module(class_name, final_module, force_reload\u001b[38;5;241m=\u001b[39mforce_download)\n",
      "File \u001b[1;32mc:\\Users\\lamin\\AppData\\Local\\Programs\\Python\\Python311\\Lib\\site-packages\\transformers\\dynamic_module_utils.py:403\u001b[0m, in \u001b[0;36mget_cached_module_file\u001b[1;34m(pretrained_model_name_or_path, module_file, cache_dir, force_download, resume_download, proxies, token, revision, local_files_only, repo_type, _commit_hash, **deprecated_kwargs)\u001b[0m\n\u001b[0;32m    401\u001b[0m     \u001b[38;5;28;01mfor\u001b[39;00m module_needed \u001b[38;5;129;01min\u001b[39;00m modules_needed:\n\u001b[0;32m    402\u001b[0m         \u001b[38;5;28;01mif\u001b[39;00m \u001b[38;5;129;01mnot\u001b[39;00m (submodule_path \u001b[38;5;241m/\u001b[39m \u001b[38;5;124mf\u001b[39m\u001b[38;5;124m\"\u001b[39m\u001b[38;5;132;01m{\u001b[39;00mmodule_needed\u001b[38;5;132;01m}\u001b[39;00m\u001b[38;5;124m.py\u001b[39m\u001b[38;5;124m\"\u001b[39m)\u001b[38;5;241m.\u001b[39mexists():\n\u001b[1;32m--> 403\u001b[0m             \u001b[43mget_cached_module_file\u001b[49m\u001b[43m(\u001b[49m\n\u001b[0;32m    404\u001b[0m \u001b[43m                \u001b[49m\u001b[43mpretrained_model_name_or_path\u001b[49m\u001b[43m,\u001b[49m\n\u001b[0;32m    405\u001b[0m \u001b[43m                \u001b[49m\u001b[38;5;124;43mf\u001b[39;49m\u001b[38;5;124;43m\"\u001b[39;49m\u001b[38;5;132;43;01m{\u001b[39;49;00m\u001b[43mmodule_needed\u001b[49m\u001b[38;5;132;43;01m}\u001b[39;49;00m\u001b[38;5;124;43m.py\u001b[39;49m\u001b[38;5;124;43m\"\u001b[39;49m\u001b[43m,\u001b[49m\n\u001b[0;32m    406\u001b[0m \u001b[43m                \u001b[49m\u001b[43mcache_dir\u001b[49m\u001b[38;5;241;43m=\u001b[39;49m\u001b[43mcache_dir\u001b[49m\u001b[43m,\u001b[49m\n\u001b[0;32m    407\u001b[0m \u001b[43m                \u001b[49m\u001b[43mforce_download\u001b[49m\u001b[38;5;241;43m=\u001b[39;49m\u001b[43mforce_download\u001b[49m\u001b[43m,\u001b[49m\n\u001b[0;32m    408\u001b[0m \u001b[43m                \u001b[49m\u001b[43mresume_download\u001b[49m\u001b[38;5;241;43m=\u001b[39;49m\u001b[43mresume_download\u001b[49m\u001b[43m,\u001b[49m\n\u001b[0;32m    409\u001b[0m \u001b[43m                \u001b[49m\u001b[43mproxies\u001b[49m\u001b[38;5;241;43m=\u001b[39;49m\u001b[43mproxies\u001b[49m\u001b[43m,\u001b[49m\n\u001b[0;32m    410\u001b[0m \u001b[43m                \u001b[49m\u001b[43mtoken\u001b[49m\u001b[38;5;241;43m=\u001b[39;49m\u001b[43mtoken\u001b[49m\u001b[43m,\u001b[49m\n\u001b[0;32m    411\u001b[0m \u001b[43m                \u001b[49m\u001b[43mrevision\u001b[49m\u001b[38;5;241;43m=\u001b[39;49m\u001b[43mrevision\u001b[49m\u001b[43m,\u001b[49m\n\u001b[0;32m    412\u001b[0m \u001b[43m                \u001b[49m\u001b[43mlocal_files_only\u001b[49m\u001b[38;5;241;43m=\u001b[39;49m\u001b[43mlocal_files_only\u001b[49m\u001b[43m,\u001b[49m\n\u001b[0;32m    413\u001b[0m \u001b[43m                \u001b[49m\u001b[43m_commit_hash\u001b[49m\u001b[38;5;241;43m=\u001b[39;49m\u001b[43mcommit_hash\u001b[49m\u001b[43m,\u001b[49m\n\u001b[0;32m    414\u001b[0m \u001b[43m            \u001b[49m\u001b[43m)\u001b[49m\n\u001b[0;32m    415\u001b[0m             new_files\u001b[38;5;241m.\u001b[39mappend(\u001b[38;5;124mf\u001b[39m\u001b[38;5;124m\"\u001b[39m\u001b[38;5;132;01m{\u001b[39;00mmodule_needed\u001b[38;5;132;01m}\u001b[39;00m\u001b[38;5;124m.py\u001b[39m\u001b[38;5;124m\"\u001b[39m)\n\u001b[0;32m    417\u001b[0m \u001b[38;5;28;01mif\u001b[39;00m \u001b[38;5;28mlen\u001b[39m(new_files) \u001b[38;5;241m>\u001b[39m \u001b[38;5;241m0\u001b[39m \u001b[38;5;129;01mand\u001b[39;00m revision \u001b[38;5;129;01mis\u001b[39;00m \u001b[38;5;28;01mNone\u001b[39;00m:\n",
      "File \u001b[1;32mc:\\Users\\lamin\\AppData\\Local\\Programs\\Python\\Python311\\Lib\\site-packages\\transformers\\dynamic_module_utils.py:365\u001b[0m, in \u001b[0;36mget_cached_module_file\u001b[1;34m(pretrained_model_name_or_path, module_file, cache_dir, force_download, resume_download, proxies, token, revision, local_files_only, repo_type, _commit_hash, **deprecated_kwargs)\u001b[0m\n\u001b[0;32m    362\u001b[0m     \u001b[38;5;28;01mraise\u001b[39;00m\n\u001b[0;32m    364\u001b[0m \u001b[38;5;66;03m# Check we have all the requirements in our environment\u001b[39;00m\n\u001b[1;32m--> 365\u001b[0m modules_needed \u001b[38;5;241m=\u001b[39m \u001b[43mcheck_imports\u001b[49m\u001b[43m(\u001b[49m\u001b[43mresolved_module_file\u001b[49m\u001b[43m)\u001b[49m\n\u001b[0;32m    367\u001b[0m \u001b[38;5;66;03m# Now we move the module inside our cached dynamic modules.\u001b[39;00m\n\u001b[0;32m    368\u001b[0m full_submodule \u001b[38;5;241m=\u001b[39m TRANSFORMERS_DYNAMIC_MODULE_NAME \u001b[38;5;241m+\u001b[39m os\u001b[38;5;241m.\u001b[39mpath\u001b[38;5;241m.\u001b[39msep \u001b[38;5;241m+\u001b[39m submodule\n",
      "File \u001b[1;32mc:\\Users\\lamin\\AppData\\Local\\Programs\\Python\\Python311\\Lib\\site-packages\\transformers\\dynamic_module_utils.py:197\u001b[0m, in \u001b[0;36mcheck_imports\u001b[1;34m(filename)\u001b[0m\n\u001b[0;32m    194\u001b[0m             \u001b[38;5;28;01mraise\u001b[39;00m\n\u001b[0;32m    196\u001b[0m \u001b[38;5;28;01mif\u001b[39;00m \u001b[38;5;28mlen\u001b[39m(missing_packages) \u001b[38;5;241m>\u001b[39m \u001b[38;5;241m0\u001b[39m:\n\u001b[1;32m--> 197\u001b[0m     \u001b[38;5;28;01mraise\u001b[39;00m \u001b[38;5;167;01mImportError\u001b[39;00m(\n\u001b[0;32m    198\u001b[0m         \u001b[38;5;124m\"\u001b[39m\u001b[38;5;124mThis modeling file requires the following packages that were not found in your environment: \u001b[39m\u001b[38;5;124m\"\u001b[39m\n\u001b[0;32m    199\u001b[0m         \u001b[38;5;124mf\u001b[39m\u001b[38;5;124m\"\u001b[39m\u001b[38;5;132;01m{\u001b[39;00m\u001b[38;5;124m'\u001b[39m\u001b[38;5;124m, \u001b[39m\u001b[38;5;124m'\u001b[39m\u001b[38;5;241m.\u001b[39mjoin(missing_packages)\u001b[38;5;132;01m}\u001b[39;00m\u001b[38;5;124m. Run `pip install \u001b[39m\u001b[38;5;132;01m{\u001b[39;00m\u001b[38;5;124m'\u001b[39m\u001b[38;5;124m \u001b[39m\u001b[38;5;124m'\u001b[39m\u001b[38;5;241m.\u001b[39mjoin(missing_packages)\u001b[38;5;132;01m}\u001b[39;00m\u001b[38;5;124m`\u001b[39m\u001b[38;5;124m\"\u001b[39m\n\u001b[0;32m    200\u001b[0m     )\n\u001b[0;32m    202\u001b[0m \u001b[38;5;28;01mreturn\u001b[39;00m get_relative_imports(filename)\n",
      "\u001b[1;31mImportError\u001b[0m: This modeling file requires the following packages that were not found in your environment: triton. Run `pip install triton`"
     ]
    }
   ],
   "source": [
    "import torch\n",
    "from transformers import AutoModelForCausalLM, AutoTokenizer\n",
    "\n",
    "# Charger le modèle et le tokenizer\n",
    "model_id = \"microsoft/Phi-3-small-128k-instruct\"\n",
    "tokenizer = AutoTokenizer.from_pretrained(model_id, trust_remote_code=True)\n",
    "model = AutoModelForCausalLM.from_pretrained(\n",
    "    model_id,\n",
    "    torch_dtype=torch.float32,  # Forcer l'utilisation de float32 pour CPU\n",
    "    trust_remote_code=True\n",
    ")\n",
    "\n",
    "# Déplacer le modèle sur le CPU (car pas de GPU disponible)\n",
    "device = \"cpu\"\n",
    "model = model.to(device)\n",
    "\n",
    "def nettoyer_texte(texte):\n",
    "    # Supprimer les espaces multiples et les caractères spéciaux\n",
    "    import re\n",
    "    texte = re.sub(r'\\s+', ' ', texte)\n",
    "    texte = re.sub(r'[^\\w\\s.,]', '', texte)\n",
    "    return texte.strip()\n",
    "\n",
    "def resumer_email(texte):\n",
    "    # Nettoyer le texte\n",
    "    texte_nettoye = nettoyer_texte(texte)\n",
    "    \n",
    "    # Préparer le prompt dans le format spécifique à Phi-3\n",
    "    prompt = f\"<|endoftext|><|user|>\\nSummarize this email in one or two sentences, focusing on the main message and intent:\\n\\n{texte_nettoye}\\n<|end|>\\n<|assistant|>\"\n",
    "    \n",
    "    # Encoder le prompt\n",
    "    inputs = tokenizer(prompt, return_tensors=\"pt\", truncation=True, max_length=512).to(device)\n",
    "    \n",
    "    # Générer le résumé\n",
    "    outputs = model.generate(\n",
    "        input_ids=inputs[\"input_ids\"], \n",
    "        max_new_tokens=50,\n",
    "        temperature=0.7,\n",
    "        do_sample=True,\n",
    "        pad_token_id=tokenizer.eos_token_id\n",
    "    )\n",
    "    \n",
    "    # Décoder le résumé\n",
    "    resume = tokenizer.decode(outputs[0][inputs[\"input_ids\"].shape[1]:], skip_special_tokens=True)\n",
    "    \n",
    "    return texte_nettoye, resume\n",
    "\n",
    "# Exemple d'utilisation avec un texte fictif (remplacez avec vos données)\n",
    "texte = \"This email contains a summary of the latest project updates and next steps for the team.\"\n",
    "texte_nettoye, resume = resumer_email(texte)\n",
    "\n",
    "print(\"Email à résumer :\", texte_nettoye)\n",
    "print(\"Résumé :\", resume)\n"
   ]
  }
 ],
 "metadata": {
  "kernelspec": {
   "display_name": "Python 3",
   "language": "python",
   "name": "python3"
  },
  "language_info": {
   "codemirror_mode": {
    "name": "ipython",
    "version": 3
   },
   "file_extension": ".py",
   "mimetype": "text/x-python",
   "name": "python",
   "nbconvert_exporter": "python",
   "pygments_lexer": "ipython3",
   "version": "3.11.6"
  }
 },
 "nbformat": 4,
 "nbformat_minor": 2
}
